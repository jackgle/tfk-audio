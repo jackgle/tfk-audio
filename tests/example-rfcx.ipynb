{
 "cells": [
  {
   "cell_type": "code",
   "execution_count": 1,
   "id": "82f07610",
   "metadata": {},
   "outputs": [],
   "source": [
    "import os\n",
    "import shutil\n",
    "import random\n",
    "os.environ['TF_CPP_MIN_LOG_LEVEL'] = '3'  # or any {'0', '1', '2'}\n",
    "os.sys.path.append('../')\n",
    "import soundkit\n",
    "if os.path.exists('./tmp/'):\n",
    "    shutil.rmtree('./tmp/')\n",
    "    "
   ]
  },
  {
   "cell_type": "markdown",
   "id": "abc3c8d7",
   "metadata": {},
   "source": [
    "#### Get Pattern Matching data\n",
    "---"
   ]
  },
  {
   "cell_type": "code",
   "execution_count": 2,
   "id": "7fc4db7f",
   "metadata": {},
   "outputs": [],
   "source": [
    "pm_ids = [4111, 2223] # example Pattern Matching jobs\n",
    "config_path='./test_config.yaml' # path to YAML with credentials\n"
   ]
  },
  {
   "cell_type": "code",
   "execution_count": 3,
   "id": "40d880c7",
   "metadata": {},
   "outputs": [
    {
     "name": "stdout",
     "output_type": "stream",
     "text": [
      "0/219 source files\n",
      "100/219 source files\n",
      "200/219 source files\n",
      "\n"
     ]
    }
   ],
   "source": [
    "# extract positive samples\n",
    "arbimonloader = soundkit.dataprep.rfcx.ArbimonLoader(config_path=config_path)\n",
    "arbimonloader.get_meta(pm_ids=pm_ids, valid=1);\n",
    "arbimonloader.extract_samples(outdir='./tmp/positive/')\n"
   ]
  },
  {
   "cell_type": "code",
   "execution_count": 4,
   "id": "97a9c321",
   "metadata": {},
   "outputs": [
    {
     "name": "stdout",
     "output_type": "stream",
     "text": [
      "0/1597 source files300/1597 source files200/1597 source files100/1597 source files\n",
      "\n",
      "\n",
      "\n",
      "400/1597 source files\n",
      "500/1597 source files\n",
      "600/1597 source files\n",
      "700/1597 source files\n",
      "800/1597 source files\n",
      "900/1597 source files\n",
      "1000/1597 source files\n",
      "1100/1597 source files\n",
      "1200/1597 source files\n",
      "1300/1597 source files\n",
      "1400/1597 source files\n",
      "1500/1597 source files\n",
      "\n"
     ]
    }
   ],
   "source": [
    "# extract negative samples\n",
    "arbimonloader.get_meta(pm_ids=pm_ids, valid=0);\n",
    "arbimonloader.extract_samples(outdir='./tmp/negative/')#, meta=arbimonloader.meta.sample(50))\n"
   ]
  },
  {
   "cell_type": "code",
   "execution_count": null,
   "id": "2a6d040f",
   "metadata": {},
   "outputs": [],
   "source": []
  },
  {
   "cell_type": "code",
   "execution_count": null,
   "id": "24db54b6",
   "metadata": {},
   "outputs": [],
   "source": []
  },
  {
   "cell_type": "code",
   "execution_count": null,
   "id": "f749a110",
   "metadata": {},
   "outputs": [],
   "source": []
  },
  {
   "cell_type": "code",
   "execution_count": null,
   "id": "efba7a1e",
   "metadata": {},
   "outputs": [],
   "source": []
  },
  {
   "cell_type": "code",
   "execution_count": null,
   "id": "9189322e",
   "metadata": {},
   "outputs": [],
   "source": []
  }
 ],
 "metadata": {
  "kernelspec": {
   "display_name": "Python 3 (ipykernel)",
   "language": "python",
   "name": "python3"
  },
  "language_info": {
   "codemirror_mode": {
    "name": "ipython",
    "version": 3
   },
   "file_extension": ".py",
   "mimetype": "text/x-python",
   "name": "python",
   "nbconvert_exporter": "python",
   "pygments_lexer": "ipython3",
   "version": "3.9.5"
  }
 },
 "nbformat": 4,
 "nbformat_minor": 5
}
